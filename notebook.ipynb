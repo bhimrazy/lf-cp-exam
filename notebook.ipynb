{
 "cells": [
  {
   "cell_type": "code",
   "execution_count": 46,
   "metadata": {},
   "outputs": [
    {
     "data": {
      "text/plain": [
       "(6, 30, 0)"
      ]
     },
     "execution_count": 46,
     "metadata": {},
     "output_type": "execute_result"
    }
   ],
   "source": [
    "\"\"\" Question : Multiplication of digits in a string. \n",
    "\n",
    "    Description:\n",
    "    Write a program that takes a string as an input and returns the product of all individual digits \n",
    "    that are present in the string. If there are no digits present in the string, return 0.\n",
    "\n",
    "\"\"\"\n",
    "\n",
    "sample_input1 = \"123hello1\"\n",
    "\n",
    "sample_output1 = \"6\"\n",
    "\n",
    "sample_input2 = \"11h2ello3 world 5\"\n",
    "\n",
    "sample_output2 = \"30\"\n",
    "\n",
    "def logic(my_input):\n",
    "    # digits =\"0123456789\"\n",
    "    product = 1\n",
    "    num_present = False\n",
    "    for c in my_input:\n",
    "        # if c in digits:\n",
    "        if c.isnumeric():\n",
    "            product *= int(c)\n",
    "            num_present = True\n",
    "\n",
    "\n",
    "    return product if num_present else 0\n",
    "\n",
    "logic(sample_input1),logic(sample_input2),logic(\"Hekk\")"
   ]
  },
  {
   "cell_type": "code",
   "execution_count": 30,
   "metadata": {},
   "outputs": [
    {
     "data": {
      "text/plain": [
       "1"
      ]
     },
     "execution_count": 30,
     "metadata": {},
     "output_type": "execute_result"
    }
   ],
   "source": [
    "\"\"\" Question: Power check\n",
    "\n",
    "    Description:\n",
    "    Write a program that takes two numbers x and y as inputs and checks if x is some power \n",
    "    of y. The output should be 1 if x is some power of y, otherwise 0. Assume that inputs \n",
    "    will only be numbers:\n",
    "\n",
    "\"\"\"\n",
    "\n",
    "sample_input1 = 16 , 4\n",
    "\n",
    "sample_output1 = 1\n",
    "\n",
    "\n",
    "def logic(x,y):\n",
    "    \n",
    "    if x == y:\n",
    "        return 1\n",
    "    if x < y or (y <= 1 and x >=1):\n",
    "        return 0\n",
    "        \n",
    "    z = y\n",
    "    while z < x:\n",
    "        z *= y\n",
    "\n",
    "    return 1 if z == x else 0\n",
    "\n",
    "logic(8,2)"
   ]
  },
  {
   "cell_type": "code",
   "execution_count": 78,
   "metadata": {},
   "outputs": [
    {
     "data": {
      "text/plain": [
       "'akeTarg hatwarg ouyarg ancarg, ivegarg othingnarg ackbarg.'"
      ]
     },
     "execution_count": 78,
     "metadata": {},
     "output_type": "execute_result"
    }
   ],
   "source": [
    "\"\"\" Question : Language of Pirates.\n",
    "    \n",
    "    Description:\n",
    "    A group of pirates created their own language which is different from normal English. \n",
    "    English is translated to the Pirate Language by taking the initial letter of every word, moving \n",
    "    it to the end of the word and then adding ‘arg’. \n",
    "    \n",
    "    Write a program that takes a string as an input and prints the translated text to the language of \n",
    "    Pirates.\n",
    "    \n",
    "\"\"\"\n",
    "sample_input1 = \"Take what you can,give nothing back.\"\n",
    "\n",
    "sample_output1 = \"akeTarg hatwarg ouyarg ancarg, ivegarg othingnarg ackbarg.\"\n",
    "\n",
    "def logic(my_input):\n",
    "    def m(w):\n",
    "        word = w[1:]+w[0]+\"arg\"\n",
    "        if \".\" in word:\n",
    "            word = word.replace(\".\",\"\") + \".\"\n",
    "        return word\n",
    "    sent = []\n",
    "    for sen in my_input.split(\",\"):\n",
    "        words = [m(w) for w in sen.split()]\n",
    "        words = \" \".join(words)\n",
    "        sent.append(words)\n",
    "\n",
    "    return \", \".join(sent)\n",
    "\n",
    "logic(sample_input1)"
   ]
  },
  {
   "cell_type": "code",
   "execution_count": 68,
   "metadata": {},
   "outputs": [
    {
     "data": {
      "text/plain": [
       "['jsjsjsj', 'jsjsjsj']"
      ]
     },
     "execution_count": 68,
     "metadata": {},
     "output_type": "execute_result"
    }
   ],
   "source": [
    "num = []\n",
    "num.append(\"jsjsjsj\")\n",
    "num.append(\"jsjsjsj\")\n",
    "num"
   ]
  },
  {
   "cell_type": "code",
   "execution_count": null,
   "metadata": {},
   "outputs": [],
   "source": [
    "\"\"\" Question:\n",
    "\n",
    "    Description:\n",
    "\n",
    "\"\"\"\n",
    "\n",
    "sample_input1 = \"\"\n",
    "\n",
    "sample_output1 = \"\"\n",
    "\n",
    "sample_input2 = \"\"\n",
    "\n",
    "sample_output2 = \"\"\n",
    "\n",
    "def logic(my_input):\n",
    "    pass\n",
    "\n",
    "\n",
    "logic(sample_input1),logic(sample_input2)"
   ]
  }
 ],
 "metadata": {
  "interpreter": {
   "hash": "bcc63d08bd90f3fa4b21abc1d4f08183ad71ac3448d4787d20726a20b300b0ba"
  },
  "kernelspec": {
   "display_name": "Python 3.8.13 ('venv': venv)",
   "language": "python",
   "name": "python3"
  },
  "language_info": {
   "codemirror_mode": {
    "name": "ipython",
    "version": 3
   },
   "file_extension": ".py",
   "mimetype": "text/x-python",
   "name": "python",
   "nbconvert_exporter": "python",
   "pygments_lexer": "ipython3",
   "version": "3.8.13"
  },
  "orig_nbformat": 4
 },
 "nbformat": 4,
 "nbformat_minor": 2
}
